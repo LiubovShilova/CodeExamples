{
 "cells": [
  {
   "cell_type": "code",
   "execution_count": null,
   "id": "4abfe648",
   "metadata": {},
   "outputs": [],
   "source": [
    "import pandas as pd\n",
    "import matplotlib.pyplot as plt\n",
    "import numpy as np\n",
    "import seaborn as sns\n",
    "import io\n",
    "import os"
   ]
  },
  {
   "cell_type": "code",
   "execution_count": null,
   "id": "219fef82",
   "metadata": {},
   "outputs": [],
   "source": [
    "#partly taken from https://gist.github.com/dceoy/99d976a2c01e7f0ba1c813778f9db744\n",
    "def read_vcf(path):\n",
    "    '''\n",
    "    input: path to vcf file\n",
    "    returns: pandas df from vcf, the header is ignored\n",
    "    '''\n",
    "    with open(path, 'r') as f: \n",
    "        lines = [l for l in f if not l.startswith('##')]\n",
    "        \n",
    "    return pd.read_csv(\n",
    "        io.StringIO(''.join(lines)),\n",
    "        dtype={'#CHROM': str, 'POS': int, 'ID': str, 'REF': str, 'ALT': str,\n",
    "               'QUAL': float, 'FILTER': str, 'INFO': str},\n",
    "        sep='\\t'\n",
    "    ).rename(columns={'#CHROM': 'CHROM'})"
   ]
  },
  {
   "cell_type": "code",
   "execution_count": null,
   "id": "3f957033",
   "metadata": {},
   "outputs": [],
   "source": [
    "def read_INFO(df):\n",
    "    '''\n",
    "    input: pandas vcf dataframe\n",
    "    returns: dataframe containing recoded column INFO from the vcf dataframe\n",
    "    '''\n",
    "    new = df[\"INFO\"].str.split(\";\", expand = True)\n",
    "    new = new.dropna()\n",
    "    new.columns = pd.DataFrame(new.iloc[0,].str.split(\"=\")).apply(lambda row : row[0][0], axis = 1)\n",
    "    new_new = new.applymap(lambda cell: cell.split(\"=\")[-1])\n",
    "    return(new_new)"
   ]
  },
  {
   "cell_type": "code",
   "execution_count": null,
   "id": "957959b7",
   "metadata": {},
   "outputs": [],
   "source": [
    "def number_of_heterozygots(df, column):\n",
    "    '''\n",
    "    input: pandas vcf dataframe, name of the sample\n",
    "    returns: valuecounts of mono/heterozygots (0/0,0/1 ...)\n",
    "    '''\n",
    "    \n",
    "    new = df[column].str.split(\":\", expand = True)[0]\n",
    "    new = new.dropna()\n",
    "    return(new.value_counts())"
   ]
  },
  {
   "cell_type": "code",
   "execution_count": null,
   "id": "b4b41f22",
   "metadata": {},
   "outputs": [],
   "source": [
    "def numeric_INFO(INFO):\n",
    "    \n",
    "    INFO['MQ'] = pd.to_numeric(INFO['MQ'])\n",
    "    INFO['AN'] = pd.to_numeric(INFO['AN'])\n",
    "    INFO['BaseQRankSum'] = pd.to_numeric(INFO['BaseQRankSum'])\n",
    "    INFO['ClippingRankSum'] = pd.to_numeric(INFO['ClippingRankSum'])\n",
    "    INFO['ExcessHet'] = pd.to_numeric(INFO['ExcessHet'])\n",
    "    INFO['FS'] = pd.to_numeric(INFO['FS'])\n",
    "    INFO['MQRankSum'] = pd.to_numeric(INFO['MQRankSum'])\n",
    "    INFO['QD'] = pd.to_numeric(INFO['QD'])\n",
    "    INFO['ReadPosRankSum'] = pd.to_numeric(INFO['ReadPosRankSum'])\n",
    "    INFO['SOR'] = pd.to_numeric(INFO['SOR'])\n",
    "    "
   ]
  },
  {
   "cell_type": "code",
   "execution_count": null,
   "id": "ad4aecab",
   "metadata": {},
   "outputs": [],
   "source": [
    "def plot_dist(df, column, threshold):\n",
    "    '''\n",
    "    Plot the distribution of the metric with the treshold\n",
    "    Default thresholds GATK hard filtering (GATK 4.0 VariantFiltration):\n",
    "        For indels:\n",
    "            QD < 2.0\n",
    "            QUAL < 30.0\n",
    "            FS > 200.0\n",
    "            ReadPosRankSum < -20.0\n",
    "            \n",
    "        For SNPs:\n",
    "            QD < 2.0\n",
    "            QUAL < 30.0\n",
    "            SOR > 3.0\n",
    "            FS > 60.0\n",
    "            MQ < 40.0\n",
    "            MQRankSum < -12.5\n",
    "            ReadPosRankSum < -8.0\n",
    "\n",
    "    '''\n",
    "    \n",
    "    sns.displot(df[column], x=column, kind=\"kde\")\n",
    "    plt.axvline(treshold, 0, 1, color = 'red')"
   ]
  }
 ],
 "metadata": {
  "kernelspec": {
   "display_name": "Python 3",
   "language": "python",
   "name": "python3"
  },
  "language_info": {
   "codemirror_mode": {
    "name": "ipython",
    "version": 3
   },
   "file_extension": ".py",
   "mimetype": "text/x-python",
   "name": "python",
   "nbconvert_exporter": "python",
   "pygments_lexer": "ipython3",
   "version": "3.8.8"
  }
 },
 "nbformat": 4,
 "nbformat_minor": 5
}
